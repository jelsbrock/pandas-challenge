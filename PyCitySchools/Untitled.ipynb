{
 "cells": [
  {
   "cell_type": "code",
   "execution_count": 1,
   "id": "c4e3337d-4643-4d40-b94c-39bd233768cd",
   "metadata": {},
   "outputs": [],
   "source": [
    "import pandas as pd"
   ]
  },
  {
   "cell_type": "code",
   "execution_count": 2,
   "id": "21e90d15-6b3e-4b48-ab9e-b02465fcedb5",
   "metadata": {},
   "outputs": [],
   "source": [
    "csvpath_schools = \"Resources/schools_complete.csv\"\n",
    "csvpath_students = \"Resources/students_complete.csv\""
   ]
  },
  {
   "cell_type": "code",
   "execution_count": null,
   "id": "e13c58e1-e1eb-4121-8113-51a8cae30297",
   "metadata": {},
   "outputs": [],
   "source": [
    "schools_df = "
   ]
  }
 ],
 "metadata": {
  "kernelspec": {
   "display_name": "Python 3 (ipykernel)",
   "language": "python",
   "name": "python3"
  },
  "language_info": {
   "codemirror_mode": {
    "name": "ipython",
    "version": 3
   },
   "file_extension": ".py",
   "mimetype": "text/x-python",
   "name": "python",
   "nbconvert_exporter": "python",
   "pygments_lexer": "ipython3",
   "version": "3.9.12"
  }
 },
 "nbformat": 4,
 "nbformat_minor": 5
}
